{
 "cells": [
  {
   "cell_type": "code",
   "execution_count": 1,
   "id": "998e3f45",
   "metadata": {},
   "outputs": [],
   "source": [
    "import numpy as np\n",
    "import pandas as pd\n",
    "import random\n",
    "import matplotlib.pyplot as plt"
   ]
  },
  {
   "cell_type": "markdown",
   "id": "0a74d2bd",
   "metadata": {},
   "source": [
    "## task 1"
   ]
  },
  {
   "cell_type": "code",
   "execution_count": 2,
   "id": "d666ef14",
   "metadata": {},
   "outputs": [],
   "source": [
    "from sklearn.datasets import load_diabetes"
   ]
  },
  {
   "cell_type": "code",
   "execution_count": 3,
   "id": "14fcfe80",
   "metadata": {},
   "outputs": [],
   "source": [
    "diabetes = load_diabetes()"
   ]
  },
  {
   "cell_type": "code",
   "execution_count": 4,
   "id": "2b2a153c",
   "metadata": {},
   "outputs": [
    {
     "data": {
      "text/plain": [
       "array([151.,  75., 141., 206., 135.,  97., 138.,  63., 110., 310., 101.,\n",
       "        69., 179., 185., 118., 171., 166., 144.,  97., 168.,  68.,  49.,\n",
       "        68., 245., 184., 202., 137.,  85., 131., 283., 129.,  59., 341.,\n",
       "        87.,  65., 102., 265., 276., 252.,  90., 100.,  55.,  61.,  92.,\n",
       "       259.,  53., 190., 142.,  75., 142., 155., 225.,  59., 104., 182.,\n",
       "       128.,  52.,  37., 170., 170.,  61., 144.,  52., 128.,  71., 163.,\n",
       "       150.,  97., 160., 178.,  48., 270., 202., 111.,  85.,  42., 170.,\n",
       "       200., 252., 113., 143.,  51.,  52., 210.,  65., 141.,  55., 134.,\n",
       "        42., 111.,  98., 164.,  48.,  96.,  90., 162., 150., 279.,  92.,\n",
       "        83., 128., 102., 302., 198.,  95.,  53., 134., 144., 232.,  81.,\n",
       "       104.,  59., 246., 297., 258., 229., 275., 281., 179., 200., 200.,\n",
       "       173., 180.,  84., 121., 161.,  99., 109., 115., 268., 274., 158.,\n",
       "       107.,  83., 103., 272.,  85., 280., 336., 281., 118., 317., 235.,\n",
       "        60., 174., 259., 178., 128.,  96., 126., 288.,  88., 292.,  71.,\n",
       "       197., 186.,  25.,  84.,  96., 195.,  53., 217., 172., 131., 214.,\n",
       "        59.,  70., 220., 268., 152.,  47.,  74., 295., 101., 151., 127.,\n",
       "       237., 225.,  81., 151., 107.,  64., 138., 185., 265., 101., 137.,\n",
       "       143., 141.,  79., 292., 178.,  91., 116.,  86., 122.,  72., 129.,\n",
       "       142.,  90., 158.,  39., 196., 222., 277.,  99., 196., 202., 155.,\n",
       "        77., 191.,  70.,  73.,  49.,  65., 263., 248., 296., 214., 185.,\n",
       "        78.,  93., 252., 150.,  77., 208.,  77., 108., 160.,  53., 220.,\n",
       "       154., 259.,  90., 246., 124.,  67.,  72., 257., 262., 275., 177.,\n",
       "        71.,  47., 187., 125.,  78.,  51., 258., 215., 303., 243.,  91.,\n",
       "       150., 310., 153., 346.,  63.,  89.,  50.,  39., 103., 308., 116.,\n",
       "       145.,  74.,  45., 115., 264.,  87., 202., 127., 182., 241.,  66.,\n",
       "        94., 283.,  64., 102., 200., 265.,  94., 230., 181., 156., 233.,\n",
       "        60., 219.,  80.,  68., 332., 248.,  84., 200.,  55.,  85.,  89.,\n",
       "        31., 129.,  83., 275.,  65., 198., 236., 253., 124.,  44., 172.,\n",
       "       114., 142., 109., 180., 144., 163., 147.,  97., 220., 190., 109.,\n",
       "       191., 122., 230., 242., 248., 249., 192., 131., 237.,  78., 135.,\n",
       "       244., 199., 270., 164.,  72.,  96., 306.,  91., 214.,  95., 216.,\n",
       "       263., 178., 113., 200., 139., 139.,  88., 148.,  88., 243.,  71.,\n",
       "        77., 109., 272.,  60.,  54., 221.,  90., 311., 281., 182., 321.,\n",
       "        58., 262., 206., 233., 242., 123., 167.,  63., 197.,  71., 168.,\n",
       "       140., 217., 121., 235., 245.,  40.,  52., 104., 132.,  88.,  69.,\n",
       "       219.,  72., 201., 110.,  51., 277.,  63., 118.,  69., 273., 258.,\n",
       "        43., 198., 242., 232., 175.,  93., 168., 275., 293., 281.,  72.,\n",
       "       140., 189., 181., 209., 136., 261., 113., 131., 174., 257.,  55.,\n",
       "        84.,  42., 146., 212., 233.,  91., 111., 152., 120.,  67., 310.,\n",
       "        94., 183.,  66., 173.,  72.,  49.,  64.,  48., 178., 104., 132.,\n",
       "       220.,  57.])"
      ]
     },
     "execution_count": 4,
     "metadata": {},
     "output_type": "execute_result"
    }
   ],
   "source": [
    "diabetes['target']"
   ]
  },
  {
   "cell_type": "markdown",
   "id": "fc6360f2",
   "metadata": {},
   "source": [
    "## TASK 2"
   ]
  },
  {
   "cell_type": "code",
   "execution_count": 5,
   "id": "8ffc5c59",
   "metadata": {},
   "outputs": [],
   "source": [
    "from sklearn.model_selection import train_test_split"
   ]
  },
  {
   "cell_type": "code",
   "execution_count": 6,
   "id": "ab051da2",
   "metadata": {},
   "outputs": [],
   "source": [
    "X_train, X_test, y_train, y_test = train_test_split(diabetes.data, diabetes.target, test_size=0.3, random_state=1004)"
   ]
  },
  {
   "cell_type": "markdown",
   "id": "e3a4e51c",
   "metadata": {},
   "source": [
    "## TASK 3"
   ]
  },
  {
   "cell_type": "code",
   "execution_count": 7,
   "id": "301d824d",
   "metadata": {},
   "outputs": [],
   "source": [
    "from sklearn.linear_model import Lasso"
   ]
  },
  {
   "cell_type": "code",
   "execution_count": 8,
   "id": "a1c225a0",
   "metadata": {},
   "outputs": [],
   "source": [
    "lasso_model = Lasso()"
   ]
  },
  {
   "cell_type": "code",
   "execution_count": 9,
   "id": "35304bf1",
   "metadata": {},
   "outputs": [
    {
     "data": {
      "text/plain": [
       "Lasso()"
      ]
     },
     "execution_count": 9,
     "metadata": {},
     "output_type": "execute_result"
    }
   ],
   "source": [
    "lasso_model.fit(X_train,y_train)"
   ]
  },
  {
   "cell_type": "code",
   "execution_count": 10,
   "id": "9f722ca9",
   "metadata": {},
   "outputs": [],
   "source": [
    "y_pred=lasso_model.predict(X_test)"
   ]
  },
  {
   "cell_type": "code",
   "execution_count": 11,
   "id": "276671db",
   "metadata": {},
   "outputs": [],
   "source": [
    "result1=lasso_model.score(X_train,y_train)"
   ]
  },
  {
   "cell_type": "code",
   "execution_count": 12,
   "id": "e899ec7a",
   "metadata": {},
   "outputs": [],
   "source": [
    "result2=lasso_model.score(X_test,y_test)"
   ]
  },
  {
   "cell_type": "code",
   "execution_count": 13,
   "id": "ec4c4971",
   "metadata": {},
   "outputs": [],
   "source": [
    "result3=sum(lasso_model.coef_!=0)"
   ]
  },
  {
   "cell_type": "code",
   "execution_count": 14,
   "id": "6b4aa301",
   "metadata": {},
   "outputs": [
    {
     "data": {
      "text/plain": [
       "['age', 'sex', 'bmi', 'bp', 's1', 's2', 's3', 's4', 's5', 's6']"
      ]
     },
     "execution_count": 14,
     "metadata": {},
     "output_type": "execute_result"
    }
   ],
   "source": [
    "Feature=diabetes.feature_names\n",
    "Feature"
   ]
  },
  {
   "cell_type": "code",
   "execution_count": 15,
   "id": "3fcf80ad",
   "metadata": {},
   "outputs": [],
   "source": [
    "ind=np.where(lasso_model.coef_!=0)"
   ]
  },
  {
   "cell_type": "code",
   "execution_count": 16,
   "id": "5989c7d2",
   "metadata": {},
   "outputs": [
    {
     "data": {
      "text/plain": [
       "array([  0.        ,  -0.        , 393.17316743,   0.        ,\n",
       "         0.        ,   0.        ,  -0.        ,   0.        ,\n",
       "       186.04610763,   0.        ])"
      ]
     },
     "execution_count": 16,
     "metadata": {},
     "output_type": "execute_result"
    }
   ],
   "source": [
    "lasso_model.coef_"
   ]
  },
  {
   "cell_type": "code",
   "execution_count": 17,
   "id": "044f4983",
   "metadata": {},
   "outputs": [
    {
     "data": {
      "text/plain": [
       "['bmi', 's5']"
      ]
     },
     "execution_count": 17,
     "metadata": {},
     "output_type": "execute_result"
    }
   ],
   "source": [
    "[Feature[ind[0][i]] for i in range(len(ind[0]))]"
   ]
  },
  {
   "cell_type": "markdown",
   "id": "4b5562cf",
   "metadata": {},
   "source": [
    "## TASK 4"
   ]
  },
  {
   "cell_type": "code",
   "execution_count": 18,
   "id": "dad6019b",
   "metadata": {},
   "outputs": [],
   "source": [
    "df=pd.read_csv('diabetes.data',sep='\\t')"
   ]
  },
  {
   "cell_type": "code",
   "execution_count": 19,
   "id": "2599398e",
   "metadata": {},
   "outputs": [
    {
     "data": {
      "text/html": [
       "<div>\n",
       "<style scoped>\n",
       "    .dataframe tbody tr th:only-of-type {\n",
       "        vertical-align: middle;\n",
       "    }\n",
       "\n",
       "    .dataframe tbody tr th {\n",
       "        vertical-align: top;\n",
       "    }\n",
       "\n",
       "    .dataframe thead th {\n",
       "        text-align: right;\n",
       "    }\n",
       "</style>\n",
       "<table border=\"1\" class=\"dataframe\">\n",
       "  <thead>\n",
       "    <tr style=\"text-align: right;\">\n",
       "      <th></th>\n",
       "      <th>AGE</th>\n",
       "      <th>SEX</th>\n",
       "      <th>BMI</th>\n",
       "      <th>BP</th>\n",
       "      <th>S1</th>\n",
       "      <th>S2</th>\n",
       "      <th>S3</th>\n",
       "      <th>S4</th>\n",
       "      <th>S5</th>\n",
       "      <th>S6</th>\n",
       "      <th>Y</th>\n",
       "    </tr>\n",
       "  </thead>\n",
       "  <tbody>\n",
       "    <tr>\n",
       "      <th>0</th>\n",
       "      <td>59</td>\n",
       "      <td>2</td>\n",
       "      <td>32.1</td>\n",
       "      <td>101.00</td>\n",
       "      <td>157</td>\n",
       "      <td>93.2</td>\n",
       "      <td>38.0</td>\n",
       "      <td>4.00</td>\n",
       "      <td>4.8598</td>\n",
       "      <td>87</td>\n",
       "      <td>151</td>\n",
       "    </tr>\n",
       "    <tr>\n",
       "      <th>1</th>\n",
       "      <td>48</td>\n",
       "      <td>1</td>\n",
       "      <td>21.6</td>\n",
       "      <td>87.00</td>\n",
       "      <td>183</td>\n",
       "      <td>103.2</td>\n",
       "      <td>70.0</td>\n",
       "      <td>3.00</td>\n",
       "      <td>3.8918</td>\n",
       "      <td>69</td>\n",
       "      <td>75</td>\n",
       "    </tr>\n",
       "    <tr>\n",
       "      <th>2</th>\n",
       "      <td>72</td>\n",
       "      <td>2</td>\n",
       "      <td>30.5</td>\n",
       "      <td>93.00</td>\n",
       "      <td>156</td>\n",
       "      <td>93.6</td>\n",
       "      <td>41.0</td>\n",
       "      <td>4.00</td>\n",
       "      <td>4.6728</td>\n",
       "      <td>85</td>\n",
       "      <td>141</td>\n",
       "    </tr>\n",
       "    <tr>\n",
       "      <th>3</th>\n",
       "      <td>24</td>\n",
       "      <td>1</td>\n",
       "      <td>25.3</td>\n",
       "      <td>84.00</td>\n",
       "      <td>198</td>\n",
       "      <td>131.4</td>\n",
       "      <td>40.0</td>\n",
       "      <td>5.00</td>\n",
       "      <td>4.8903</td>\n",
       "      <td>89</td>\n",
       "      <td>206</td>\n",
       "    </tr>\n",
       "    <tr>\n",
       "      <th>4</th>\n",
       "      <td>50</td>\n",
       "      <td>1</td>\n",
       "      <td>23.0</td>\n",
       "      <td>101.00</td>\n",
       "      <td>192</td>\n",
       "      <td>125.4</td>\n",
       "      <td>52.0</td>\n",
       "      <td>4.00</td>\n",
       "      <td>4.2905</td>\n",
       "      <td>80</td>\n",
       "      <td>135</td>\n",
       "    </tr>\n",
       "    <tr>\n",
       "      <th>...</th>\n",
       "      <td>...</td>\n",
       "      <td>...</td>\n",
       "      <td>...</td>\n",
       "      <td>...</td>\n",
       "      <td>...</td>\n",
       "      <td>...</td>\n",
       "      <td>...</td>\n",
       "      <td>...</td>\n",
       "      <td>...</td>\n",
       "      <td>...</td>\n",
       "      <td>...</td>\n",
       "    </tr>\n",
       "    <tr>\n",
       "      <th>437</th>\n",
       "      <td>60</td>\n",
       "      <td>2</td>\n",
       "      <td>28.2</td>\n",
       "      <td>112.00</td>\n",
       "      <td>185</td>\n",
       "      <td>113.8</td>\n",
       "      <td>42.0</td>\n",
       "      <td>4.00</td>\n",
       "      <td>4.9836</td>\n",
       "      <td>93</td>\n",
       "      <td>178</td>\n",
       "    </tr>\n",
       "    <tr>\n",
       "      <th>438</th>\n",
       "      <td>47</td>\n",
       "      <td>2</td>\n",
       "      <td>24.9</td>\n",
       "      <td>75.00</td>\n",
       "      <td>225</td>\n",
       "      <td>166.0</td>\n",
       "      <td>42.0</td>\n",
       "      <td>5.00</td>\n",
       "      <td>4.4427</td>\n",
       "      <td>102</td>\n",
       "      <td>104</td>\n",
       "    </tr>\n",
       "    <tr>\n",
       "      <th>439</th>\n",
       "      <td>60</td>\n",
       "      <td>2</td>\n",
       "      <td>24.9</td>\n",
       "      <td>99.67</td>\n",
       "      <td>162</td>\n",
       "      <td>106.6</td>\n",
       "      <td>43.0</td>\n",
       "      <td>3.77</td>\n",
       "      <td>4.1271</td>\n",
       "      <td>95</td>\n",
       "      <td>132</td>\n",
       "    </tr>\n",
       "    <tr>\n",
       "      <th>440</th>\n",
       "      <td>36</td>\n",
       "      <td>1</td>\n",
       "      <td>30.0</td>\n",
       "      <td>95.00</td>\n",
       "      <td>201</td>\n",
       "      <td>125.2</td>\n",
       "      <td>42.0</td>\n",
       "      <td>4.79</td>\n",
       "      <td>5.1299</td>\n",
       "      <td>85</td>\n",
       "      <td>220</td>\n",
       "    </tr>\n",
       "    <tr>\n",
       "      <th>441</th>\n",
       "      <td>36</td>\n",
       "      <td>1</td>\n",
       "      <td>19.6</td>\n",
       "      <td>71.00</td>\n",
       "      <td>250</td>\n",
       "      <td>133.2</td>\n",
       "      <td>97.0</td>\n",
       "      <td>3.00</td>\n",
       "      <td>4.5951</td>\n",
       "      <td>92</td>\n",
       "      <td>57</td>\n",
       "    </tr>\n",
       "  </tbody>\n",
       "</table>\n",
       "<p>442 rows × 11 columns</p>\n",
       "</div>"
      ],
      "text/plain": [
       "     AGE  SEX   BMI      BP   S1     S2    S3    S4      S5   S6    Y\n",
       "0     59    2  32.1  101.00  157   93.2  38.0  4.00  4.8598   87  151\n",
       "1     48    1  21.6   87.00  183  103.2  70.0  3.00  3.8918   69   75\n",
       "2     72    2  30.5   93.00  156   93.6  41.0  4.00  4.6728   85  141\n",
       "3     24    1  25.3   84.00  198  131.4  40.0  5.00  4.8903   89  206\n",
       "4     50    1  23.0  101.00  192  125.4  52.0  4.00  4.2905   80  135\n",
       "..   ...  ...   ...     ...  ...    ...   ...   ...     ...  ...  ...\n",
       "437   60    2  28.2  112.00  185  113.8  42.0  4.00  4.9836   93  178\n",
       "438   47    2  24.9   75.00  225  166.0  42.0  5.00  4.4427  102  104\n",
       "439   60    2  24.9   99.67  162  106.6  43.0  3.77  4.1271   95  132\n",
       "440   36    1  30.0   95.00  201  125.2  42.0  4.79  5.1299   85  220\n",
       "441   36    1  19.6   71.00  250  133.2  97.0  3.00  4.5951   92   57\n",
       "\n",
       "[442 rows x 11 columns]"
      ]
     },
     "execution_count": 19,
     "metadata": {},
     "output_type": "execute_result"
    }
   ],
   "source": [
    "df"
   ]
  },
  {
   "cell_type": "markdown",
   "id": "3b95fd63",
   "metadata": {},
   "source": [
    "## TASK 5"
   ]
  },
  {
   "cell_type": "code",
   "execution_count": 20,
   "id": "96e1b4b7",
   "metadata": {},
   "outputs": [],
   "source": [
    "X_train1, X_test1, y_train1, y_test1 = train_test_split(df.drop('Y',axis=1), df.Y, test_size=0.3, random_state=1004)"
   ]
  },
  {
   "cell_type": "markdown",
   "id": "99703e9b",
   "metadata": {},
   "source": [
    "## TASK 6"
   ]
  },
  {
   "cell_type": "code",
   "execution_count": 21,
   "id": "1920d6dd",
   "metadata": {},
   "outputs": [],
   "source": [
    "lasso_model1 = Lasso()"
   ]
  },
  {
   "cell_type": "code",
   "execution_count": 22,
   "id": "fac8b812",
   "metadata": {},
   "outputs": [
    {
     "data": {
      "text/plain": [
       "Lasso()"
      ]
     },
     "execution_count": 22,
     "metadata": {},
     "output_type": "execute_result"
    }
   ],
   "source": [
    "lasso_model1.fit(X_train1,y_train1)"
   ]
  },
  {
   "cell_type": "code",
   "execution_count": 23,
   "id": "8a79aeca",
   "metadata": {},
   "outputs": [],
   "source": [
    "result4=lasso_model1.score(X_train1,y_train1)"
   ]
  },
  {
   "cell_type": "code",
   "execution_count": 24,
   "id": "76203e51",
   "metadata": {},
   "outputs": [],
   "source": [
    "result5=lasso_model1.score(X_test1,y_test1)"
   ]
  },
  {
   "cell_type": "code",
   "execution_count": 25,
   "id": "c2815921",
   "metadata": {},
   "outputs": [],
   "source": [
    "result6=sum(lasso_model1.coef_!=0)"
   ]
  },
  {
   "cell_type": "code",
   "execution_count": 26,
   "id": "d492d2c4",
   "metadata": {},
   "outputs": [],
   "source": [
    "ind1=np.where(lasso_model1.coef_!=0)"
   ]
  },
  {
   "cell_type": "code",
   "execution_count": 27,
   "id": "7ac743ea",
   "metadata": {},
   "outputs": [
    {
     "data": {
      "text/plain": [
       "['age', 'sex', 'bmi', 'bp', 's1', 's2', 's3', 's4', 's5', 's6']"
      ]
     },
     "execution_count": 27,
     "metadata": {},
     "output_type": "execute_result"
    }
   ],
   "source": [
    "[Feature[ind1[0][i]] for i in range(len(ind1[0]))]"
   ]
  },
  {
   "cell_type": "code",
   "execution_count": 28,
   "id": "ed52fcdb",
   "metadata": {},
   "outputs": [
    {
     "data": {
      "text/plain": [
       "array([  0.02874905, -21.61685604,   6.07763861,   1.13538207,\n",
       "         0.36900301,  -0.51683162,  -1.20836045,   0.4145911 ,\n",
       "        21.06771504,   0.11987142])"
      ]
     },
     "execution_count": 28,
     "metadata": {},
     "output_type": "execute_result"
    }
   ],
   "source": [
    "lasso_model1.coef_"
   ]
  },
  {
   "cell_type": "markdown",
   "id": "9dbd6297",
   "metadata": {},
   "source": [
    "## TASK 7"
   ]
  },
  {
   "cell_type": "code",
   "execution_count": 29,
   "id": "4708d0f0",
   "metadata": {},
   "outputs": [],
   "source": [
    "from sklearn.preprocessing import StandardScaler\n",
    "scale=StandardScaler()"
   ]
  },
  {
   "cell_type": "code",
   "execution_count": 30,
   "id": "8a06b05b",
   "metadata": {},
   "outputs": [],
   "source": [
    "scale.fit(X_train1)\n",
    "X_train1=scale.transform(X_train1)\n",
    "X_test1=scale.transform(X_test1)"
   ]
  },
  {
   "cell_type": "code",
   "execution_count": 31,
   "id": "9a26ade4",
   "metadata": {},
   "outputs": [
    {
     "data": {
      "text/plain": [
       "array([[ 0.3336538 ,  1.07742246, -0.00251616, ...,  1.20858937,\n",
       "         0.53823115,  0.72573074],\n",
       "       [ 0.3336538 ,  1.07742246, -0.46901287, ...,  0.74923621,\n",
       "        -0.08512601,  0.02439908],\n",
       "       [ 1.49555114,  1.07742246, -0.62451177, ..., -1.04146253,\n",
       "        -0.75486728,  0.19973199],\n",
       "       ...,\n",
       "       [-0.44094443, -0.92814104, -1.35757802, ..., -1.58645779,\n",
       "        -0.7273385 , -0.85226549],\n",
       "       [ 0.64349309,  1.07742246,  0.3529099 , ...,  1.52780088,\n",
       "        -1.95406617, -1.20293132],\n",
       "       [ 1.88285025,  1.07742246,  0.90826311, ..., -0.02932846,\n",
       "         0.09984476, -0.50159966]])"
      ]
     },
     "execution_count": 31,
     "metadata": {},
     "output_type": "execute_result"
    }
   ],
   "source": [
    "X_train1"
   ]
  },
  {
   "cell_type": "markdown",
   "id": "3db09dbd",
   "metadata": {},
   "source": [
    "## TASK 8"
   ]
  },
  {
   "cell_type": "code",
   "execution_count": 32,
   "id": "1a7c0347",
   "metadata": {},
   "outputs": [],
   "source": [
    "lasso_model2 = Lasso()"
   ]
  },
  {
   "cell_type": "code",
   "execution_count": 33,
   "id": "60e2ee87",
   "metadata": {},
   "outputs": [
    {
     "data": {
      "text/plain": [
       "Lasso()"
      ]
     },
     "execution_count": 33,
     "metadata": {},
     "output_type": "execute_result"
    }
   ],
   "source": [
    "lasso_model2.fit(X_train1,y_train1)"
   ]
  },
  {
   "cell_type": "code",
   "execution_count": 34,
   "id": "d54c9594",
   "metadata": {},
   "outputs": [
    {
     "data": {
      "text/plain": [
       "0.48673801741856626"
      ]
     },
     "execution_count": 34,
     "metadata": {},
     "output_type": "execute_result"
    }
   ],
   "source": [
    "result7=lasso_model2.score(X_train1,y_train1)\n",
    "result7"
   ]
  },
  {
   "cell_type": "code",
   "execution_count": 35,
   "id": "b4f61170",
   "metadata": {},
   "outputs": [
    {
     "data": {
      "text/plain": [
       "0.5278591178183369"
      ]
     },
     "execution_count": 35,
     "metadata": {},
     "output_type": "execute_result"
    }
   ],
   "source": [
    "result8=lasso_model2.score(X_test1,y_test1)\n",
    "result8"
   ]
  },
  {
   "cell_type": "code",
   "execution_count": 36,
   "id": "56aedbe6",
   "metadata": {},
   "outputs": [],
   "source": [
    "result9=sum(lasso_model2.coef_!=0)"
   ]
  },
  {
   "cell_type": "code",
   "execution_count": 37,
   "id": "64d3bf6d",
   "metadata": {},
   "outputs": [],
   "source": [
    "ind2=np.where(lasso_model2.coef_!=0)"
   ]
  },
  {
   "cell_type": "code",
   "execution_count": 38,
   "id": "9822cdf7",
   "metadata": {},
   "outputs": [
    {
     "data": {
      "text/plain": [
       "['sex', 'bmi', 'bp', 's1', 's3', 's5', 's6']"
      ]
     },
     "execution_count": 38,
     "metadata": {},
     "output_type": "execute_result"
    }
   ],
   "source": [
    "[Feature[ind2[0][i]] for i in range(len(ind2[0]))]"
   ]
  },
  {
   "cell_type": "markdown",
   "id": "e78176a4",
   "metadata": {},
   "source": [
    "**Explanation**\n",
    "* The Task 8 result is closure to Task 6\n",
    "* The Task 3 and Task 6 are different because, for approaches that use regularisation, normalisation is crucial. This is due to the fact that the scale of the variables influences how much regularisation is applied to each variable."
   ]
  },
  {
   "cell_type": "markdown",
   "id": "fd002ede",
   "metadata": {},
   "source": [
    "## TASK 9"
   ]
  },
  {
   "cell_type": "code",
   "execution_count": 39,
   "id": "2dca9d96",
   "metadata": {},
   "outputs": [],
   "source": [
    "test_r2 = np.zeros((100))\n",
    "features = np.zeros((100))"
   ]
  },
  {
   "cell_type": "code",
   "execution_count": 40,
   "id": "1f39097b",
   "metadata": {},
   "outputs": [
    {
     "data": {
      "text/plain": [
       "array([4.76837158e+13, 3.17586852e+13, 2.11521704e+13, 1.40879357e+13,\n",
       "       9.38295824e+12, 6.24931199e+12, 4.16221615e+12, 2.77215209e+12,\n",
       "       1.84633064e+12, 1.22970772e+12, 8.19019652e+11, 5.45489940e+11,\n",
       "       3.63311520e+11, 2.41975609e+11, 1.61162507e+11, 1.07338726e+11,\n",
       "       7.14905867e+10, 4.76147255e+10, 3.17127357e+10, 2.11215668e+10,\n",
       "       1.40675528e+10, 9.36938267e+09, 6.24027028e+09, 4.15619412e+09,\n",
       "       2.76814125e+09, 1.84365931e+09, 1.22792854e+09, 8.17834667e+08,\n",
       "       5.44700707e+08, 3.62785869e+08, 2.41625511e+08, 1.60929332e+08,\n",
       "       1.07183425e+08, 7.13871518e+07, 4.75458349e+07, 3.16668526e+07,\n",
       "       2.10910074e+07, 1.40471994e+07, 9.35582674e+06, 6.23124165e+06,\n",
       "       4.15018080e+06, 2.76413621e+06, 1.84099184e+06, 1.22615193e+06,\n",
       "       8.16651397e+05, 5.43912616e+05, 3.62260978e+05, 2.41275919e+05,\n",
       "       1.60696494e+05, 1.07028349e+05, 7.12838665e+04, 4.74770440e+04,\n",
       "       3.16210360e+04, 2.10604923e+04, 1.40268755e+04, 9.34229043e+03,\n",
       "       6.22222609e+03, 4.14417618e+03, 2.76013697e+03, 1.83832823e+03,\n",
       "       1.22437789e+03, 8.15469839e+02, 5.43125666e+02, 3.61736847e+02,\n",
       "       2.40926833e+02, 1.60463993e+02, 1.06873497e+02, 7.11807307e+01,\n",
       "       4.74083527e+01, 3.15752857e+01, 2.10300212e+01, 1.40065809e+01,\n",
       "       9.32877369e+00, 6.21322357e+00, 4.13818025e+00, 2.75614351e+00,\n",
       "       1.83566848e+00, 1.22260642e+00, 8.14289991e-01, 5.42339854e-01,\n",
       "       3.61213475e-01, 2.40578253e-01, 1.60231829e-01, 1.06718869e-01,\n",
       "       7.10777441e-02, 4.73397607e-02, 3.15296015e-02, 2.09995943e-02,\n",
       "       1.39863157e-02, 9.31527652e-03, 6.20423407e-03, 4.13219300e-03,\n",
       "       2.75215583e-03, 1.83301257e-03, 1.22083752e-03, 8.13111849e-04,\n",
       "       5.41555179e-04, 3.60690859e-04, 2.40230176e-04, 1.60000000e-04])"
      ]
     },
     "execution_count": 40,
     "metadata": {},
     "output_type": "execute_result"
    }
   ],
   "source": [
    "alphas = 5**np.linspace(20,-5,100)*0.5\n",
    "alphas"
   ]
  },
  {
   "cell_type": "code",
   "execution_count": 41,
   "id": "f1744961",
   "metadata": {},
   "outputs": [],
   "source": [
    "for i in range(len(alphas)):\n",
    "    lasso_model3 = Lasso(max_iter=10000,alpha=alphas[i])\n",
    "    lasso_model3.fit(X_train1,y_train1)\n",
    "    test_r2[i-1]=lasso_model3.score(X_test1,y_test1)\n",
    "    features[i-1] = sum(lasso_model3.coef_!=0)"
   ]
  },
  {
   "cell_type": "code",
   "execution_count": 42,
   "id": "a3be6a98",
   "metadata": {},
   "outputs": [],
   "source": [
    "import seaborn as sns"
   ]
  },
  {
   "cell_type": "code",
   "execution_count": 43,
   "id": "328324e0",
   "metadata": {},
   "outputs": [
    {
     "data": {
      "text/plain": [
       "[<matplotlib.lines.Line2D at 0x223ff93af10>]"
      ]
     },
     "execution_count": 43,
     "metadata": {},
     "output_type": "execute_result"
    },
    {
     "data": {
      "image/png": "[encoded data removed]",
      "text/plain": [
       "<Figure size 720x360 with 1 Axes>"
      ]
     },
     "metadata": {
      "needs_background": "light"
     },
     "output_type": "display_data"
    }
   ],
   "source": [
    "fig= plt.subplots(figsize=(10,5))\n",
    "sns.scatterplot(x=test_r2,y=features)\n",
    "x1=test_r2[np.where(features==6)][-1]\n",
    "y1=6\n",
    "plt.plot(x1,y1,'rx',markersize=12)"
   ]
  },
  {
   "cell_type": "code",
   "execution_count": 44,
   "id": "ebaab423",
   "metadata": {},
   "outputs": [],
   "source": [
    "best_alpha=alphas[np.where(features==6)][-1]"
   ]
  },
  {
   "cell_type": "code",
   "execution_count": 45,
   "id": "84b36a69",
   "metadata": {},
   "outputs": [],
   "source": [
    "r2=test_r2[np.where(features==6)][-1]"
   ]
  },
  {
   "cell_type": "code",
   "execution_count": 46,
   "id": "d4060217",
   "metadata": {},
   "outputs": [
    {
     "name": "stdout",
     "output_type": "stream",
     "text": [
      "best_alpha = 1.835668477852773\n",
      "test_r2 = 0.526159881398498\n",
      "features = 6\n"
     ]
    }
   ],
   "source": [
    "print(f'best_alpha = {best_alpha}')\n",
    "print(f'test_r2 = {r2}')\n",
    "print('features = 6')"
   ]
  },
  {
   "cell_type": "markdown",
   "id": "97bcb5e8",
   "metadata": {},
   "source": [
    "**Explanation**\n",
    "* **X cross** on the graph is the point I choosen, because,\n",
    "* It has best r^2 value, means less varience on the test data compared to other points \n",
    "* Has good amount of features (features = 6) to avoid bias\n",
    "* Overall, the model fit the data at that point, when compared to other points."
   ]
  },
  {
   "cell_type": "markdown",
   "id": "3cca1ea4",
   "metadata": {},
   "source": [
    "## TASK 10"
   ]
  },
  {
   "cell_type": "code",
   "execution_count": 47,
   "id": "0dda0dc9",
   "metadata": {},
   "outputs": [],
   "source": [
    "from sklearn.linear_model import LassoCV"
   ]
  },
  {
   "cell_type": "code",
   "execution_count": 48,
   "id": "8b8036be",
   "metadata": {},
   "outputs": [],
   "source": [
    "lasso_model4=LassoCV(cv=10,random_state=1004)"
   ]
  },
  {
   "cell_type": "code",
   "execution_count": 49,
   "id": "618032f6",
   "metadata": {},
   "outputs": [
    {
     "data": {
      "text/plain": [
       "LassoCV(cv=10, random_state=1004)"
      ]
     },
     "execution_count": 49,
     "metadata": {},
     "output_type": "execute_result"
    }
   ],
   "source": [
    "lasso_model4.fit(X_train1,y_train1)"
   ]
  },
  {
   "cell_type": "code",
   "execution_count": 50,
   "id": "37a52dc2",
   "metadata": {},
   "outputs": [],
   "source": [
    "result10=lasso_model4.score(X_train1,y_train1)"
   ]
  },
  {
   "cell_type": "code",
   "execution_count": 51,
   "id": "00e7e5fe",
   "metadata": {},
   "outputs": [],
   "source": [
    "result11=lasso_model4.score(X_test1,y_test1)"
   ]
  },
  {
   "cell_type": "code",
   "execution_count": 52,
   "id": "31e5ce67",
   "metadata": {},
   "outputs": [],
   "source": [
    "result12=sum(lasso_model4.coef_!=0)"
   ]
  },
  {
   "cell_type": "markdown",
   "id": "431c77c8",
   "metadata": {},
   "source": [
    "## TASK 11"
   ]
  },
  {
   "cell_type": "code",
   "execution_count": 53,
   "id": "7f9489d8",
   "metadata": {},
   "outputs": [],
   "source": [
    "X_train2, X_valid, y_train2, y_valid = train_test_split(X_train1, y_train1, test_size=99, random_state=1004)"
   ]
  },
  {
   "cell_type": "code",
   "execution_count": 54,
   "id": "8c628400",
   "metadata": {},
   "outputs": [
    {
     "data": {
      "text/plain": [
       "(99, 10)"
      ]
     },
     "execution_count": 54,
     "metadata": {},
     "output_type": "execute_result"
    }
   ],
   "source": [
    "X_valid.shape"
   ]
  },
  {
   "cell_type": "code",
   "execution_count": 55,
   "id": "26d2d62e",
   "metadata": {},
   "outputs": [],
   "source": [
    "lasso_model5 = Lasso()"
   ]
  },
  {
   "cell_type": "code",
   "execution_count": 56,
   "id": "f9e5477e",
   "metadata": {},
   "outputs": [
    {
     "data": {
      "text/plain": [
       "Lasso()"
      ]
     },
     "execution_count": 56,
     "metadata": {},
     "output_type": "execute_result"
    }
   ],
   "source": [
    "lasso_model5.fit(X_train2,y_train2)"
   ]
  },
  {
   "cell_type": "code",
   "execution_count": 57,
   "id": "4e5adb7c",
   "metadata": {},
   "outputs": [],
   "source": [
    "y_predict = lasso_model5.predict(X_valid)"
   ]
  },
  {
   "cell_type": "code",
   "execution_count": 58,
   "id": "e620314e",
   "metadata": {},
   "outputs": [],
   "source": [
    "sort_conf_score = np.sort(abs(y_valid-y_predict))"
   ]
  },
  {
   "cell_type": "code",
   "execution_count": 59,
   "id": "38b14833",
   "metadata": {},
   "outputs": [],
   "source": [
    "eps = np.array([0.05,0.2])\n",
    "m = len(y_valid)"
   ]
  },
  {
   "cell_type": "code",
   "execution_count": 60,
   "id": "2c5c0a50",
   "metadata": {},
   "outputs": [],
   "source": [
    "k=np.ceil((1-eps)*(m+1)).astype(int)"
   ]
  },
  {
   "cell_type": "code",
   "execution_count": 61,
   "id": "d7e3c7b8",
   "metadata": {},
   "outputs": [],
   "source": [
    "c=sort_conf_score[k]"
   ]
  },
  {
   "cell_type": "code",
   "execution_count": 62,
   "id": "a12ba1ee",
   "metadata": {},
   "outputs": [],
   "source": [
    "point_pred=lasso_model5.predict(X_test1)"
   ]
  },
  {
   "cell_type": "code",
   "execution_count": 63,
   "id": "132e5c07",
   "metadata": {},
   "outputs": [],
   "source": [
    "interval1=np.zeros((len(point_pred),2))\n",
    "interval2=np.zeros((len(point_pred),2))"
   ]
  },
  {
   "cell_type": "code",
   "execution_count": 64,
   "id": "fcc2e759",
   "metadata": {},
   "outputs": [],
   "source": [
    "interval1[:,0]=point_pred-c[0]\n",
    "interval1[:,1]=point_pred+c[0]"
   ]
  },
  {
   "cell_type": "code",
   "execution_count": 65,
   "id": "8769ac41",
   "metadata": {},
   "outputs": [],
   "source": [
    "interval2[:,0]=point_pred-c[1]\n",
    "interval2[:,1]=point_pred+c[1]"
   ]
  },
  {
   "cell_type": "code",
   "execution_count": 66,
   "id": "d10c8d4f",
   "metadata": {},
   "outputs": [],
   "source": [
    "result13 = interval1[0][1]-interval1[0][0]\n",
    "result14 = interval2[0][1]-interval2[0][0]"
   ]
  },
  {
   "cell_type": "code",
   "execution_count": 67,
   "id": "b6fc5dca",
   "metadata": {},
   "outputs": [],
   "source": [
    "a=len(y_test1[(y_test1 > interval1[:,0]) & (y_test1 < interval1[:,1])])\n",
    "result15 = 1-(a/len(y_test1))"
   ]
  },
  {
   "cell_type": "code",
   "execution_count": 68,
   "id": "6da5b133",
   "metadata": {},
   "outputs": [],
   "source": [
    "b=len(y_test1[(y_test1 > interval2[:,0]) & (y_test1 < interval2[:,1])])\n",
    "result16 = 1-(b/len(y_test1))"
   ]
  },
  {
   "cell_type": "markdown",
   "id": "fa053253",
   "metadata": {},
   "source": [
    "## RESULT"
   ]
  },
  {
   "cell_type": "code",
   "execution_count": 69,
   "id": "af48b880",
   "metadata": {},
   "outputs": [
    {
     "name": "stdout",
     "output_type": "stream",
     "text": [
      "1. Scikit version Traning r^2 is 0.32312008880459675\n",
      "2. Scikit version Testing r^2 is 0.297929843064623\n",
      "3. Scikit version number of features is 2\n",
      "\n",
      "\n",
      "4. Orginal version Training r^2 is 0.48307902757812216\n",
      "5. orginal version Testing r^2 is 0.5237731588612056\n",
      "6. Orginal version number of features is 10\n",
      "\n",
      "\n",
      "7. Normalized Orginal version Training r^2 is 0.48673801741856626\n",
      "8. Normalized orginal version Testing r^2 is 0.5278591178183369\n",
      "9. Normalized Orginal version number of features is 7\n",
      "\n",
      "\n",
      "10. Cross_validation version Training r^2 is 0.4847602951181067\n",
      "11. Cross_validation version Testing r^2 is 0.5238228292777403\n",
      "12. Cross_validation version number of features is 6\n",
      "\n",
      "\n",
      "13. Length of the prediction test interval for 5% significance is 232.62399984939435\n",
      "14. Length of the prediction test interval for 20% significance is 157.28426247133746\n",
      "15. test_error_rate for 5% significance is 0.03007518796992481\n",
      "16. test_error_rate for 20% significance is 0.19548872180451127\n"
     ]
    }
   ],
   "source": [
    "print(f\"1. Scikit version Traning r^2 is {result1}\")\n",
    "print(f\"2. Scikit version Testing r^2 is {result2}\")\n",
    "print(f\"3. Scikit version number of features is {result3}\")\n",
    "print('\\n')\n",
    "print(f\"4. Orginal version Training r^2 is {result4}\")\n",
    "print(f\"5. orginal version Testing r^2 is {result5}\")\n",
    "print(f\"6. Orginal version number of features is {result6}\")\n",
    "print('\\n')\n",
    "print(f\"7. Normalized Orginal version Training r^2 is {result7}\")\n",
    "print(f\"8. Normalized orginal version Testing r^2 is {result8}\")\n",
    "print(f\"9. Normalized Orginal version number of features is {result9}\")\n",
    "print('\\n')\n",
    "print(f\"10. Cross_validation version Training r^2 is {result10}\")\n",
    "print(f\"11. Cross_validation version Testing r^2 is {result11}\")\n",
    "print(f\"12. Cross_validation version number of features is {result12}\")\n",
    "print('\\n')\n",
    "print(f\"13. Length of the prediction test interval for 5% significance is {result13}\")\n",
    "print(f\"14. Length of the prediction test interval for 20% significance is {result14}\")\n",
    "print(f\"15. test_error_rate for 5% significance is {result15}\")\n",
    "print(f\"16. test_error_rate for 20% significance is {result16}\")"
   ]
  },
  {
   "cell_type": "markdown",
   "id": "b552e639",
   "metadata": {},
   "source": [
    "**Task9 Explanation**\n",
    "* **X cross** on the graph is the point I choosen, because,\n",
    "* It has maximum r^2 value, means less varience on the test data compared to other points \n",
    "* Has good amount of features to avoid bias\n",
    "* Overall, the model fit the data at that point, when compared to other points."
   ]
  },
  {
   "cell_type": "markdown",
   "id": "47ed8f9c",
   "metadata": {},
   "source": [
    "**Task8 Explanation**\n",
    "* The Task 8 result is closure to Task 6\n",
    "* The Task 3 and Task 6 are different because, for approaches that use regularisation, normalisation is crucial. This is due to the fact that the scale of the variables influences how much regularisation is applied to each variable."
   ]
  },
  {
   "cell_type": "code",
   "execution_count": null,
   "id": "4c0792cd",
   "metadata": {},
   "outputs": [],
   "source": []
  }
 ],
 "metadata": {
  "kernelspec": {
   "display_name": "Python 3",
   "language": "python",
   "name": "python3"
  },
  "language_info": {
   "codemirror_mode": {
    "name": "ipython",
    "version": 3
   },
   "file_extension": ".py",
   "mimetype": "text/x-python",
   "name": "python",
   "nbconvert_exporter": "python",
   "pygments_lexer": "ipython3",
   "version": "3.8.8"
  }
 },
 "nbformat": 4,
 "nbformat_minor": 5
}
